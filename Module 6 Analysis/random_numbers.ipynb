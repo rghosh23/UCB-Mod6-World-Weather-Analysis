{
 "cells": [
  {
   "cell_type": "code",
   "execution_count": 1,
   "id": "dc06a901",
   "metadata": {},
   "outputs": [],
   "source": [
    "# Import the random module.\n",
    "import random"
   ]
  },
  {
   "cell_type": "code",
   "execution_count": 3,
   "id": "4d7233c6",
   "metadata": {},
   "outputs": [],
   "source": [
    "#random."
   ]
  },
  {
   "cell_type": "code",
   "execution_count": 4,
   "id": "8317ffcf",
   "metadata": {},
   "outputs": [
    {
     "data": {
      "text/plain": [
       "-79"
      ]
     },
     "execution_count": 4,
     "metadata": {},
     "output_type": "execute_result"
    }
   ],
   "source": [
    "random.randint(-90, 90)"
   ]
  },
  {
   "cell_type": "code",
   "execution_count": 5,
   "id": "12633c78",
   "metadata": {},
   "outputs": [
    {
     "data": {
      "text/plain": [
       "0.9913253978998918"
      ]
     },
     "execution_count": 5,
     "metadata": {},
     "output_type": "execute_result"
    }
   ],
   "source": [
    "random.random()"
   ]
  },
  {
   "cell_type": "code",
   "execution_count": 7,
   "id": "eff68ec1",
   "metadata": {},
   "outputs": [
    {
     "data": {
      "text/plain": [
       "[50.53700305852258,\n",
       " 38.132798520382046,\n",
       " -30.720523661871834,\n",
       " 32.09272752141958,\n",
       " 33.15871585078548,\n",
       " 86.35347465383703,\n",
       " 21.44777079825418,\n",
       " -60.50396556452067,\n",
       " -36.00248098863278,\n",
       " -15.106174338072282]"
      ]
     },
     "execution_count": 7,
     "metadata": {},
     "output_type": "execute_result"
    }
   ],
   "source": [
    "#Assign the variable x to 1\n",
    "x = 1\n",
    "#Initialize an empty list, latitudes\n",
    "latitudes = []\n",
    "#create a while loop where we generate a random latitude and add it to the list\n",
    "while x < 11:\n",
    "    random_lat = random.randint(-90, 89) + random.random()\n",
    "    latitudes.append(random_lat)\n",
    "    #After the random latitude is added to the list we add one to the variable \"x\".\n",
    "    x += 1\n",
    "#The while loop condition is checked again and will continue to run as long as x is less than 11\n",
    "latitudes"
   ]
  },
  {
   "cell_type": "code",
   "execution_count": 8,
   "id": "8d501de8",
   "metadata": {},
   "outputs": [
    {
     "data": {
      "text/plain": [
       "77"
      ]
     },
     "execution_count": 8,
     "metadata": {},
     "output_type": "execute_result"
    }
   ],
   "source": [
    "#randrange function testing\n",
    "random.randrange(-90, 90, step=1)"
   ]
  },
  {
   "cell_type": "code",
   "execution_count": 10,
   "id": "ade939b7",
   "metadata": {},
   "outputs": [
    {
     "data": {
      "text/plain": [
       "-87"
      ]
     },
     "execution_count": 10,
     "metadata": {},
     "output_type": "execute_result"
    }
   ],
   "source": [
    "random.randrange(-90, 90, step=3)"
   ]
  },
  {
   "cell_type": "code",
   "execution_count": 11,
   "id": "653f81ba",
   "metadata": {},
   "outputs": [
    {
     "data": {
      "text/plain": [
       "-16.061376222023995"
      ]
     },
     "execution_count": 11,
     "metadata": {},
     "output_type": "execute_result"
    }
   ],
   "source": [
    "#uniform function testing\n",
    "random.uniform(-90, 90)"
   ]
  },
  {
   "cell_type": "code",
   "execution_count": 12,
   "id": "432b670e",
   "metadata": {},
   "outputs": [],
   "source": [
    "# Import the NumPy module.\n",
    "import numpy as np"
   ]
  },
  {
   "cell_type": "code",
   "execution_count": 13,
   "id": "883388b3",
   "metadata": {},
   "outputs": [
    {
     "data": {
      "text/plain": [
       "81.58554822786436"
      ]
     },
     "execution_count": 13,
     "metadata": {},
     "output_type": "execute_result"
    }
   ],
   "source": [
    "np.random.uniform(-90.000, 90.000)"
   ]
  },
  {
   "cell_type": "code",
   "execution_count": 14,
   "id": "b39b0ee7",
   "metadata": {},
   "outputs": [
    {
     "data": {
      "text/plain": [
       "-28.23406316031611"
      ]
     },
     "execution_count": 14,
     "metadata": {},
     "output_type": "execute_result"
    }
   ],
   "source": [
    "np.random.uniform(low=-90, high=90)"
   ]
  },
  {
   "cell_type": "code",
   "execution_count": 15,
   "id": "9f9f5ec3",
   "metadata": {},
   "outputs": [
    {
     "data": {
      "text/plain": [
       "array([-25.41426513,  17.52750688,   7.99305849, -84.36575633,\n",
       "        15.46667366, -25.59099408,  62.61822982,   0.25792311,\n",
       "        17.7901529 ,  33.20018785, -75.27380678, -52.53392057,\n",
       "        22.06009104, -11.08893252, -70.8924943 , -16.31517934,\n",
       "       -12.09626237, -26.39363108,   4.59916959, -58.8914913 ,\n",
       "        15.70208287,  42.08150751, -25.19753829, -78.89827929,\n",
       "       -65.41754143,  73.23227473, -82.30528745,   5.89771734,\n",
       "        18.66727977, -53.06444504,  21.69312898, -46.96573537,\n",
       "       -79.38260592,  38.40187121,  56.32140548,  12.65905653,\n",
       "       -63.18234047, -26.1780244 ,   4.21543401,  72.68204542,\n",
       "       -52.84229474,  57.42475299, -22.89322044,  16.72318004,\n",
       "         0.75009156, -14.8559889 ,  -5.95905412,  26.70670202,\n",
       "        13.7586757 ,  58.95543704])"
      ]
     },
     "execution_count": 15,
     "metadata": {},
     "output_type": "execute_result"
    }
   ],
   "source": [
    "np.random.uniform(-90.000, 90.000, size=50)"
   ]
  },
  {
   "cell_type": "code",
   "execution_count": 16,
   "id": "6d95ba11",
   "metadata": {},
   "outputs": [],
   "source": [
    "# Import timeit.\n",
    "import timeit"
   ]
  },
  {
   "cell_type": "code",
   "execution_count": 17,
   "id": "889a8cc9",
   "metadata": {},
   "outputs": [
    {
     "name": "stdout",
     "output_type": "stream",
     "text": [
      "25.6 µs ± 38.9 ns per loop (mean ± std. dev. of 7 runs, 10000 loops each)\n"
     ]
    }
   ],
   "source": [
    "%timeit np.random.uniform(-90.000, 90.000, size=1500)\n"
   ]
  },
  {
   "cell_type": "code",
   "execution_count": 18,
   "id": "b75103aa",
   "metadata": {},
   "outputs": [
    {
     "name": "stdout",
     "output_type": "stream",
     "text": [
      "1.1 ms ± 9.93 µs per loop (mean ± std. dev. of 7 runs, 1000 loops each)\n"
     ]
    }
   ],
   "source": [
    "def latitudes(size):\n",
    "    latitudes = []\n",
    "    x = 0\n",
    "    while x < (size):\n",
    "        random_lat = random.randint(-90, 90) + random.random()\n",
    "        latitudes.append(random_lat)\n",
    "        x += 1\n",
    "    return latitudes\n",
    "# Call the function with 1500.\n",
    "%timeit latitudes(1500)"
   ]
  },
  {
   "cell_type": "code",
   "execution_count": null,
   "id": "42afc735",
   "metadata": {},
   "outputs": [],
   "source": [
    "def latitudes(size):\n",
    "    latitudes = []\n",
    "    x = 0\n",
    "    while x < (size):\n",
    "        random_lat = random.randint(-90, 90) + random.random()\n",
    "        latitudes.append(random_lat)\n",
    "        x += 1\n",
    "    return latitudes\n",
    "# Call the function with 1500.\n",
    "%timeit latitudes(1500)"
   ]
  }
 ],
 "metadata": {
  "kernelspec": {
   "display_name": "PythonData",
   "language": "python",
   "name": "pythondata"
  },
  "language_info": {
   "codemirror_mode": {
    "name": "ipython",
    "version": 3
   },
   "file_extension": ".py",
   "mimetype": "text/x-python",
   "name": "python",
   "nbconvert_exporter": "python",
   "pygments_lexer": "ipython3",
   "version": "3.9.7"
  }
 },
 "nbformat": 4,
 "nbformat_minor": 5
}
